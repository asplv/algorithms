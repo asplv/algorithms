{
 "cells": [
  {
   "cell_type": "markdown",
   "metadata": {},
   "source": [
    "## Модель предсказания среднего балла по математике"
   ]
  },
  {
   "cell_type": "markdown",
   "metadata": {},
   "source": [
    "В данном ноутбуке реализована модель предсказания среднего балла по математике на основе данных о подготавливающем к экзамену репетиторе. Модель построена на алгоритме random forest. Предсказание балла производится на основе среднего значения по предсказаниям всех деревьев в ансамбле."
   ]
  },
  {
   "cell_type": "markdown",
   "metadata": {},
   "source": [
    "### 1. Описание датасета\n",
    "\n",
    "**Таргет:**\n",
    "\n",
    "**mean_exam_points** - средний балл по математике\n",
    "\n",
    "**Независимые характеристики:**\n",
    "- **id** - идентификационный номер репетитора\n",
    "- **age** - возраст репетитора\n",
    "- **years_of_experience** - количество лет практики\n",
    "- **lesson_price** - стоимость занятия\n",
    "- **qualification** - уровень квалификации\n",
    "- **physics** - репетитор преподает физику\n",
    "- **chemistry** - репетитор преподает физику химию\n",
    "- **biology** - репетитор преподает биологию\n",
    "- **english** - репетитор преподает английский язык\n",
    "- **geography** - репетитор преподает географию\n",
    "- **history** - репетитор преподает историю"
   ]
  },
  {
   "cell_type": "code",
   "execution_count": 1,
   "metadata": {
    "_cell_guid": "b1076dfc-b9ad-4769-8c92-a6c4dae69d19",
    "_uuid": "8f2839f25d086af736a60e9eeb907d3b93b6e0e5"
   },
   "outputs": [],
   "source": [
    "import numpy as np\n",
    "import pandas as pd\n",
    "import random\n",
    "\n",
    "import matplotlib.pyplot as plt\n",
    "import seaborn as sns\n",
    "\n",
    "from sklearn import model_selection"
   ]
  },
  {
   "cell_type": "markdown",
   "metadata": {},
   "source": [
    "### 2. Подготовка и изучение данных"
   ]
  },
  {
   "cell_type": "code",
   "execution_count": 2,
   "metadata": {
    "_cell_guid": "79c7e3d0-c299-4dcb-8224-4455121ee9b0",
    "_uuid": "d629ff2d2480ee46fbb7e2d37f6b5fab8052498a"
   },
   "outputs": [
    {
     "data": {
      "text/html": [
       "<div>\n",
       "<style scoped>\n",
       "    .dataframe tbody tr th:only-of-type {\n",
       "        vertical-align: middle;\n",
       "    }\n",
       "\n",
       "    .dataframe tbody tr th {\n",
       "        vertical-align: top;\n",
       "    }\n",
       "\n",
       "    .dataframe thead th {\n",
       "        text-align: right;\n",
       "    }\n",
       "</style>\n",
       "<table border=\"1\" class=\"dataframe\">\n",
       "  <thead>\n",
       "    <tr style=\"text-align: right;\">\n",
       "      <th></th>\n",
       "      <th>Id</th>\n",
       "      <th>age</th>\n",
       "      <th>years_of_experience</th>\n",
       "      <th>lesson_price</th>\n",
       "      <th>qualification</th>\n",
       "      <th>physics</th>\n",
       "      <th>chemistry</th>\n",
       "      <th>biology</th>\n",
       "      <th>english</th>\n",
       "      <th>geography</th>\n",
       "      <th>history</th>\n",
       "      <th>mean_exam_points</th>\n",
       "    </tr>\n",
       "  </thead>\n",
       "  <tbody>\n",
       "    <tr>\n",
       "      <th>0</th>\n",
       "      <td>0</td>\n",
       "      <td>40.0</td>\n",
       "      <td>0.0</td>\n",
       "      <td>1400.0</td>\n",
       "      <td>1.0</td>\n",
       "      <td>1.0</td>\n",
       "      <td>0.0</td>\n",
       "      <td>0.0</td>\n",
       "      <td>0.0</td>\n",
       "      <td>1.0</td>\n",
       "      <td>0.0</td>\n",
       "      <td>63.0</td>\n",
       "    </tr>\n",
       "    <tr>\n",
       "      <th>1</th>\n",
       "      <td>1</td>\n",
       "      <td>48.0</td>\n",
       "      <td>4.0</td>\n",
       "      <td>2850.0</td>\n",
       "      <td>3.0</td>\n",
       "      <td>1.0</td>\n",
       "      <td>0.0</td>\n",
       "      <td>0.0</td>\n",
       "      <td>0.0</td>\n",
       "      <td>0.0</td>\n",
       "      <td>0.0</td>\n",
       "      <td>86.0</td>\n",
       "    </tr>\n",
       "  </tbody>\n",
       "</table>\n",
       "</div>"
      ],
      "text/plain": [
       "   Id   age  years_of_experience  lesson_price  qualification  physics  \\\n",
       "0   0  40.0                  0.0        1400.0            1.0      1.0   \n",
       "1   1  48.0                  4.0        2850.0            3.0      1.0   \n",
       "\n",
       "   chemistry  biology  english  geography  history  mean_exam_points  \n",
       "0        0.0      0.0      0.0        1.0      0.0              63.0  \n",
       "1        0.0      0.0      0.0        0.0      0.0              86.0  "
      ]
     },
     "execution_count": 2,
     "metadata": {},
     "output_type": "execute_result"
    }
   ],
   "source": [
    "path_train = 'train.csv'\n",
    "path_test = 'test.csv'\n",
    "\n",
    "df = pd.read_csv(path_train)\n",
    "df.head(2)"
   ]
  },
  {
   "cell_type": "code",
   "execution_count": 3,
   "metadata": {},
   "outputs": [],
   "source": [
    "X = df.drop('mean_exam_points', axis=1)\n",
    "X.set_index('Id', inplace=True)\n",
    "\n",
    "X_final = pd.read_csv(path_test)\n",
    "X_final.set_index('Id', inplace=True)\n",
    "\n",
    "\n",
    "y = df[['mean_exam_points']]"
   ]
  },
  {
   "cell_type": "code",
   "execution_count": 4,
   "metadata": {},
   "outputs": [],
   "source": [
    "target_mean = y['mean_exam_points'].mean()\n",
    "target_median = y['mean_exam_points'].median()"
   ]
  },
  {
   "cell_type": "code",
   "execution_count": 5,
   "metadata": {},
   "outputs": [
    {
     "data": {
      "image/png": "[encoded data removed]",
      "text/plain": [
       "<Figure size 720x576 with 1 Axes>"
      ]
     },
     "metadata": {
      "needs_background": "light"
     },
     "output_type": "display_data"
    },
    {
     "name": "stdout",
     "output_type": "stream",
     "text": [
      "Skewness: 0.15353785505136924\n",
      "Kurtosis: -0.5463508059580886\n"
     ]
    }
   ],
   "source": [
    "plt.figure(figsize = (10, 8))\n",
    "sns.distplot(y, bins=20)\n",
    "\n",
    "n = np.linspace(0, 0.000007, 100)\n",
    "plt.plot([target_mean] * 100, n, label='mean', linestyle=':', linewidth=3)\n",
    "plt.plot([target_median] * 100, n, label='median', linestyle='--', linewidth=3)\n",
    "\n",
    "\n",
    "plt.title('Distribution of mean_exam_points')\n",
    "plt.legend()\n",
    "plt.show()\n",
    "print(f'Skewness: {y.skew()[0]}')\n",
    "print(f'Kurtosis: {y.kurt()[0]}')"
   ]
  },
  {
   "cell_type": "code",
   "execution_count": 6,
   "metadata": {},
   "outputs": [
    {
     "data": {
      "image/png": "[encoded data removed]",
      "text/plain": [
       "<Figure size 864x864 with 4 Axes>"
      ]
     },
     "metadata": {
      "needs_background": "light"
     },
     "output_type": "display_data"
    }
   ],
   "source": [
    "X_num_features = ['age', 'years_of_experience', 'lesson_price', 'qualification']\n",
    "\n",
    "X[X_num_features].hist(figsize=(12,12), bins=20, grid=False)\n",
    "plt.show()"
   ]
  },
  {
   "cell_type": "code",
   "execution_count": 7,
   "metadata": {},
   "outputs": [
    {
     "data": {
      "image/png": "[encoded data removed]",
      "text/plain": [
       "<Figure size 1080x720 with 2 Axes>"
      ]
     },
     "metadata": {
      "needs_background": "light"
     },
     "output_type": "display_data"
    }
   ],
   "source": [
    "plt.figure(figsize = (15,10))\n",
    "sns.set(font_scale=1)\n",
    "\n",
    "df_corr = pd.read_csv(path_train)\n",
    "corr_matrix = df_corr.corr()\n",
    "corr_matrix = np.round(corr_matrix, 2)\n",
    "corr_matrix[np.abs(corr_matrix) < 0.4] = 0\n",
    "\n",
    "sns.heatmap(corr_matrix, annot=True, linewidths=.5, cmap='coolwarm')\n",
    "\n",
    "plt.title('Correlation matrix')\n",
    "plt.show()"
   ]
  },
  {
   "cell_type": "markdown",
   "metadata": {},
   "source": [
    "Наибольшая корреляция балла наблюдается от признаков цена за урок и уровень квалификации преподавателя."
   ]
  },
  {
   "cell_type": "markdown",
   "metadata": {},
   "source": [
    "### 3. Очистка данных"
   ]
  },
  {
   "cell_type": "code",
   "execution_count": 8,
   "metadata": {},
   "outputs": [],
   "source": [
    "class FeatureImputer:\n",
    "    \"\"\"Обработка выбросов\"\"\"\n",
    "    \n",
    "    def __init__(self):\n",
    "        self.medians=None\n",
    "        \n",
    "    def fit(self, X):\n",
    "        self.medians = X.median()\n",
    "            \n",
    "    def transform(self, X):\n",
    "        \n",
    "        X.loc[X['qualification'] > 3, 'qualification'] = self.medians['qualification']\n",
    "\n",
    "        return X"
   ]
  },
  {
   "cell_type": "code",
   "execution_count": 9,
   "metadata": {},
   "outputs": [],
   "source": [
    "imputer = FeatureImputer()\n",
    "\n",
    "imputer.fit(X)\n",
    "\n",
    "X = imputer.transform(X)\n",
    "X_final = imputer.transform(X_final)"
   ]
  },
  {
   "cell_type": "markdown",
   "metadata": {},
   "source": [
    "### 4. Генерация фич"
   ]
  },
  {
   "cell_type": "code",
   "execution_count": 10,
   "metadata": {},
   "outputs": [],
   "source": [
    "class FeatureGenetator():\n",
    "    \"\"\"Генерация новых фич\"\"\"\n",
    "\n",
    "        \n",
    "    def fit(self, X, y):\n",
    "        df = X.copy()\n",
    "        \n",
    "        \n",
    "        df['mean_exam_points'] = y.values\n",
    "        \n",
    "        \n",
    "        self.med_exam_points_by_qualification = df.groupby(['qualification']) \\\n",
    "            .agg({'mean_exam_points':'median'}) \\\n",
    "            .rename(columns={'mean_exam_points':'MedExam_pointsByQual'})\n",
    "        \n",
    "        self.med_exam_points_by_years_of_exp = df.groupby(['years_of_experience']) \\\n",
    "            .agg({'mean_exam_points':'mean'}) \\\n",
    "            .rename(columns={'mean_exam_points':'MedExam_pointsByYears_of_exp'})\n",
    "        \n",
    "        \n",
    "        df = self.lesson_to_cat(df) \n",
    "        self.med_exam_points_by_lesson_price = df.groupby(['lesson_cat']) \\\n",
    "            .agg({'mean_exam_points':'mean'}) \\\n",
    "            .rename(columns={'mean_exam_points':'MedExam_pointsByLesson_price'})\n",
    "        \n",
    "\n",
    "        \n",
    "    def transform(self, X):\n",
    "        \n",
    "        X = self.lesson_to_cat(X)\n",
    "        \n",
    "        X = X.merge(self.med_exam_points_by_qualification, on=['qualification'], how='left')\n",
    "        X = X.merge(self.med_exam_points_by_lesson_price, on=['lesson_cat'], how='left')\n",
    "        X = X.merge(self.med_exam_points_by_years_of_exp, on=['years_of_experience'], how='left')\n",
    "        \n",
    "        \n",
    "        return X\n",
    "        \n",
    "    @staticmethod\n",
    "    def lesson_to_cat(X):\n",
    "        \n",
    "        X['lesson_cat'] = np.nan\n",
    "        \n",
    "        X.loc[X['lesson_price'] < 1300, 'lesson_cat'] = 1  \n",
    "        X.loc[(X['lesson_price'] >= 1300) & (X['lesson_price'] <= 1500), 'lesson_cat'] = 2\n",
    "        X.loc[(X['lesson_price'] > 1500) & (X['lesson_price'] <= 2000), 'lesson_cat'] = 3\n",
    "        X.loc[(X['lesson_price'] > 2000) & (X['lesson_price'] <= 3000), 'lesson_cat'] = 4\n",
    "        X.loc[X['lesson_price'] > 3000, 'lesson_cat'] = 5   \n",
    "        return X\n"
   ]
  },
  {
   "cell_type": "code",
   "execution_count": 11,
   "metadata": {},
   "outputs": [],
   "source": [
    "features = FeatureGenetator()\n",
    "\n",
    "features.fit(X, y)\n",
    "\n",
    "X = features.transform(X)\n",
    "X_final = features.transform(X_final)"
   ]
  },
  {
   "cell_type": "code",
   "execution_count": 12,
   "metadata": {},
   "outputs": [],
   "source": [
    "remain_features = ['age', 'years_of_experience', 'lesson_price', 'qualification', 'physics', 'chemistry',\n",
    "                   'biology', 'english', 'geography', 'history',\n",
    "                   \n",
    "                   \n",
    "                   'MedExam_pointsByQual','MedExam_pointsByLesson_price', 'MedExam_pointsByYears_of_exp']\n",
    "\n",
    "X = X[remain_features]\n",
    "X_final = X_final[remain_features]"
   ]
  },
  {
   "cell_type": "markdown",
   "metadata": {},
   "source": [
    "### 4. Создание и обучение модели"
   ]
  },
  {
   "cell_type": "code",
   "execution_count": 13,
   "metadata": {},
   "outputs": [],
   "source": [
    "X = X.to_numpy()\n",
    "X_final = X_final.to_numpy()\n",
    "y = y.T.to_numpy()[0]"
   ]
  },
  {
   "cell_type": "code",
   "execution_count": 14,
   "metadata": {},
   "outputs": [],
   "source": [
    "class Node:\n",
    "    \n",
    "    def __init__(self, index, t, true_branch, false_branch):\n",
    "        self.index = index  # индекс признака, по которому ведется сравнение с порогом в этом узле\n",
    "        self.t = t  # значение порога\n",
    "        self.true_branch = true_branch  # поддерево, удовлетворяющее условию в узле\n",
    "        self.false_branch = false_branch  # поддерево, не удовлетворяющее условию в узле\n",
    "        \n",
    "class Leaf:\n",
    "    \n",
    "    def __init__(self, data, labels, data_type):\n",
    "        self.data = data\n",
    "        self.labels = labels\n",
    "        self.prediction = self.predict(data_type)\n",
    "        \n",
    "    def predict(self, data_type):\n",
    "        \n",
    "        if data_type == 'objects':  \n",
    "            # подсчет количества объектов разных классов\n",
    "            classes = {}  # сформируем словарь \"класс: количество объектов\"\n",
    "            for label in self.labels:\n",
    "                if label not in classes:\n",
    "                    classes[label] = 0\n",
    "                classes[label] += 1\n",
    "\n",
    "            return max(classes, key=classes.get)\n",
    "            \n",
    "        elif data_type == 'numbers':\n",
    "            return np.mean(self.labels)\n",
    "        \n",
    "        \n",
    "random.seed(42)\n",
    "\n",
    "def get_bootstrap(data, labels, N):\n",
    "    \"\"\"Создание bootstrap-выборок, по которым будут обучатья деревья\n",
    "    \n",
    "    returns: список выборок и словарь, сдержащий использованные и \n",
    "    не использованные индексы\n",
    "    \n",
    "    \"\"\"\n",
    "    n_samples = data.shape[0]\n",
    "    bootstrap = []\n",
    "    used_idx = set()\n",
    "    \n",
    "    for i in range(N):\n",
    "        b_data = np.zeros(data.shape)\n",
    "        b_labels = np.zeros(labels.shape)\n",
    "        \n",
    "        for j in range(n_samples):\n",
    "            sample_index = random.randint(0, n_samples-1)\n",
    "            used_idx.add(sample_index)\n",
    "            b_data[j] = data[sample_index]\n",
    "            b_labels[j] = labels[sample_index]\n",
    "            \n",
    "        bootstrap.append((b_data, b_labels))\n",
    "    \n",
    "    oob_idx = set(range(0, n_samples)) - used_idx\n",
    "\n",
    "    return bootstrap, {\"oob\": list(oob_idx), \"used\": list(used_idx)}\n",
    "\n",
    "\n",
    "# выбор признаков для выборок\n",
    "def get_subsample(len_sample):\n",
    "    # будем сохранять не сами признаки, а их индексы\n",
    "    sample_indexes = [i for i in range(len_sample)]\n",
    "    \n",
    "    len_subsample = int(np.sqrt(len_sample))\n",
    "    subsample = []\n",
    "    \n",
    "    random.shuffle(sample_indexes)\n",
    "    for _ in range(len_subsample):\n",
    "        subsample.append(sample_indexes.pop())\n",
    "\n",
    "    return subsample\n",
    "\n",
    "\n",
    "def build_tree(data, labels, criterion_type, data_type, depth_limit=8, leaf_limit=200):\n",
    "\n",
    "    quality, t, index = find_best_split(data, labels, criterion_type)\n",
    "\n",
    "    # прекращаем рекурсию\n",
    "    if quality == 0 or depth_limit == 0 or leaf_limit==1:\n",
    "        return Leaf(data, labels, data_type), leaf_limit-1\n",
    "\n",
    "\n",
    "    true_data, false_data, true_labels, false_labels = split(data, labels, index, t)\n",
    "\n",
    "    # Рекурсивно строим два поддерева\n",
    "    false_branch, leaf_limit = build_tree(false_data, false_labels, criterion_type, data_type, depth_limit-1, leaf_limit-1)\n",
    "    true_branch, leaf_limit = build_tree(true_data, true_labels, criterion_type, data_type, depth_limit-1, leaf_limit+1)\n",
    "\n",
    "    # Возвращаем класс узла со всеми поддеревьями, то есть целого дерева\n",
    "    return Node(index, t, true_branch, false_branch), leaf_limit\n",
    "\n",
    "\n",
    "def split(data, labels, index, t):\n",
    "    left = np.where(data[:, index] <= t)\n",
    "    right = np.where(data[:, index] > t)\n",
    "\n",
    "    true_data = data[left]\n",
    "    false_data = data[right]\n",
    "    true_labels = labels[left]\n",
    "    false_labels = labels[right]\n",
    "\n",
    "    return true_data, false_data, true_labels, false_labels\n",
    "\n",
    "\n",
    "# Нахождение наилучшего разбиения\n",
    "def find_best_split(data, labels, criterion_type):\n",
    "    \n",
    "    #  обозначим минимальное количество объектов в узле\n",
    "    min_leaf = 1\n",
    "    \n",
    "    if criterion_type == 'gini':\n",
    "        current_criterion = gini(labels)\n",
    "    elif criterion_type == 'entropy':\n",
    "        current_criterion = entropy(labels)\n",
    "    elif criterion_type == 'variance':\n",
    "        current_criterion = variance(labels)\n",
    "\n",
    "    best_quality = 0\n",
    "    best_t = None\n",
    "    best_index = None\n",
    "    \n",
    "    n_features = data.shape[1]\n",
    "    \n",
    "    # выбор индекса из подвыборки длиной sqrt(n_features)\n",
    "    subsample = get_subsample(n_features)\n",
    "    \n",
    "    for index in subsample:\n",
    "        # будем проверять только уникальные значения признака, исключая повторения\n",
    "        t_values = np.unique([row[index] for row in data])\n",
    "        \n",
    "        for t in t_values:\n",
    "            true_data, false_data, true_labels, false_labels = split(data, labels, index, t)\n",
    "            #  пропускаем разбиения, в которых в узле остается менее 5 объектов\n",
    "            if len(true_data) < min_leaf or len(false_data) < min_leaf:\n",
    "                continue\n",
    "            \n",
    "            current_quality = quality(true_labels, false_labels, current_criterion, criterion_type)\n",
    "            \n",
    "            #  выбираем порог, на котором получается максимальный прирост качества\n",
    "            if current_quality > best_quality:\n",
    "                best_quality, best_t, best_index = current_quality, t, index\n",
    "\n",
    "    return best_quality, best_t, best_index\n",
    "\n",
    "def gini(labels):\n",
    "    #  подсчет количества объектов разных классов\n",
    "    classes = {}\n",
    "    for label in labels:\n",
    "        if label not in classes:\n",
    "            classes[label] = 0\n",
    "        classes[label] += 1\n",
    "\n",
    "    #  расчет критерия\n",
    "    impurity = 1\n",
    "    for label in classes:\n",
    "        p = classes[label] / len(labels)\n",
    "        impurity -= p ** 2\n",
    "\n",
    "    return impurity\n",
    "\n",
    "\n",
    "def entropy(labels):\n",
    "    #  подсчет количества объектов разных классов\n",
    "    classes = {}\n",
    "    for label in labels:\n",
    "        if label not in classes:\n",
    "            classes[label] = 0\n",
    "        classes[label] += 1\n",
    "\n",
    "    #  расчет критерия\n",
    "    entropy = 0\n",
    "    for label in classes:\n",
    "        p = classes[label] / len(labels)\n",
    "        entropy -= p * np.log2(p)\n",
    "\n",
    "    return entropy\n",
    "\n",
    "\n",
    "def variance(data):\n",
    "    return np.var(data) \n",
    "\n",
    "\n",
    "def quality(left_labels, right_labels, current_criterion, criterion_type):\n",
    "\n",
    "    # доля выбоки, ушедшая в левое поддерево\n",
    "    p = float(left_labels.shape[0]) / (left_labels.shape[0] + right_labels.shape[0])\n",
    "\n",
    "    if criterion_type == 'gini':\n",
    "        return current_criterion - p * gini(left_labels) - (1 - p) * gini(right_labels)\n",
    "    elif criterion_type == 'entropy':\n",
    "        return current_criterion - p * entropy(left_labels) - (1 - p) * entropy(right_labels)\n",
    "    elif criterion_type == 'variance':\n",
    "        return current_criterion - p * variance(left_labels) - (1 - p) * variance(right_labels)\n",
    "\n",
    "\n",
    "def classify_object(obj, node):\n",
    "\n",
    "    #  Останавливаем рекурсию, если достигли листа\n",
    "    if isinstance(node, Leaf):\n",
    "        answer = node.prediction\n",
    "        return answer\n",
    "    if obj[node.index] <= node.t:\n",
    "        return classify_object(obj, node.true_branch)\n",
    "    else:\n",
    "        return classify_object(obj, node.false_branch)\n",
    "    \n",
    "\n",
    "def predict(data, tree):\n",
    "    \n",
    "    classes = []\n",
    "    for obj in data:\n",
    "        prediction = classify_object(obj, tree)\n",
    "        classes.append(prediction)\n",
    "    return classes\n",
    "\n",
    "def random_forest(data, labels, n_trees, criterion_type, data_type, depth_limit, leaf_limit):\n",
    "    forest = []\n",
    "    bootstrap, indexes = get_bootstrap(data, labels, n_trees)\n",
    "    \n",
    "    for b_data, b_labels in bootstrap:\n",
    "        forest.append(build_tree(b_data, b_labels, criterion_type, data_type, depth_limit, leaf_limit))\n",
    "        \n",
    "    return forest, indexes\n",
    "\n",
    "# предсказание голосованием деревьев\n",
    "def tree_vote(forest, data):\n",
    "\n",
    "    # добавим предсказания всех деревьев в список\n",
    "    predictions = []\n",
    "    for tree in forest:\n",
    "        predictions.append(predict(data, tree[0]))\n",
    "    \n",
    "    # сформируем список с предсказаниями для каждого объекта\n",
    "\n",
    "    predictions_per_object = list(zip(*predictions))\n",
    "    \n",
    "    voted_predictions = []\n",
    "    for obj in predictions_per_object:\n",
    "        voted_predictions.append(sum(obj)/len(obj))\n",
    "        \n",
    "    return voted_predictions"
   ]
  },
  {
   "cell_type": "markdown",
   "metadata": {},
   "source": [
    "### 5. Кросс-валидация"
   ]
  },
  {
   "cell_type": "code",
   "execution_count": 15,
   "metadata": {},
   "outputs": [],
   "source": [
    "def r2(y, y_pred):\n",
    "    return 1 - np.var(y - y_pred) / np.var(y)"
   ]
  },
  {
   "cell_type": "code",
   "execution_count": 16,
   "metadata": {},
   "outputs": [],
   "source": [
    "random_states = [1, 253, 45, 1234, 56]\n",
    "r2s = []"
   ]
  },
  {
   "cell_type": "code",
   "execution_count": 17,
   "metadata": {},
   "outputs": [
    {
     "name": "stdout",
     "output_type": "stream",
     "text": [
      "[0.765607208571535, 0.7768849251164609, 0.7621370874015538, 0.7611228756527723, 0.7508386328338761]\n"
     ]
    }
   ],
   "source": [
    "for item in random_states:\n",
    "    X_train, X_test, y_train, y_test = model_selection.train_test_split(X, y, test_size = 0.3, random_state = item)\n",
    "    my_forest, indexes = random_forest(X_train, y_train, n_trees=50, data_type='numbers', criterion_type='variance', depth_limit=10, leaf_limit=1000)\n",
    "\n",
    "    test_answers = tree_vote(my_forest, X_test)\n",
    "    r2s.append(r2(y_test, test_answers))\n",
    "        \n",
    "print(r2s)"
   ]
  },
  {
   "cell_type": "markdown",
   "metadata": {},
   "source": [
    "## 6. Предсказание"
   ]
  },
  {
   "cell_type": "code",
   "execution_count": 18,
   "metadata": {},
   "outputs": [],
   "source": [
    "y_pred_final = tree_vote(my_forest, X_final)"
   ]
  },
  {
   "cell_type": "code",
   "execution_count": 19,
   "metadata": {},
   "outputs": [
    {
     "data": {
      "text/html": [
       "<div>\n",
       "<style scoped>\n",
       "    .dataframe tbody tr th:only-of-type {\n",
       "        vertical-align: middle;\n",
       "    }\n",
       "\n",
       "    .dataframe tbody tr th {\n",
       "        vertical-align: top;\n",
       "    }\n",
       "\n",
       "    .dataframe thead th {\n",
       "        text-align: right;\n",
       "    }\n",
       "</style>\n",
       "<table border=\"1\" class=\"dataframe\">\n",
       "  <thead>\n",
       "    <tr style=\"text-align: right;\">\n",
       "      <th></th>\n",
       "      <th>Id</th>\n",
       "      <th>mean_exam_points</th>\n",
       "    </tr>\n",
       "  </thead>\n",
       "  <tbody>\n",
       "    <tr>\n",
       "      <th>0</th>\n",
       "      <td>10000</td>\n",
       "      <td>55.075488</td>\n",
       "    </tr>\n",
       "    <tr>\n",
       "      <th>1</th>\n",
       "      <td>10001</td>\n",
       "      <td>63.227035</td>\n",
       "    </tr>\n",
       "    <tr>\n",
       "      <th>2</th>\n",
       "      <td>10002</td>\n",
       "      <td>48.522738</td>\n",
       "    </tr>\n",
       "    <tr>\n",
       "      <th>3</th>\n",
       "      <td>10003</td>\n",
       "      <td>89.493426</td>\n",
       "    </tr>\n",
       "    <tr>\n",
       "      <th>4</th>\n",
       "      <td>10004</td>\n",
       "      <td>88.532465</td>\n",
       "    </tr>\n",
       "  </tbody>\n",
       "</table>\n",
       "</div>"
      ],
      "text/plain": [
       "      Id  mean_exam_points\n",
       "0  10000         55.075488\n",
       "1  10001         63.227035\n",
       "2  10002         48.522738\n",
       "3  10003         89.493426\n",
       "4  10004         88.532465"
      ]
     },
     "execution_count": 19,
     "metadata": {},
     "output_type": "execute_result"
    }
   ],
   "source": [
    "X_final = pd.read_csv(path_test)\n",
    "\n",
    "preds_final = pd.DataFrame()\n",
    "preds_final['Id'] = X_final['Id'].copy()\n",
    "\n",
    "\n",
    "preds_final['mean_exam_points'] = y_pred_final\n",
    "preds_final.head()"
   ]
  },
  {
   "cell_type": "code",
   "execution_count": 20,
   "metadata": {},
   "outputs": [],
   "source": [
    "preds_final.to_csv('predictions.csv', index=False)"
   ]
  }
 ],
 "metadata": {
  "kernelspec": {
   "display_name": "Python 3",
   "language": "python",
   "name": "python3"
  },
  "language_info": {
   "codemirror_mode": {
    "name": "ipython",
    "version": 3
   },
   "file_extension": ".py",
   "mimetype": "text/x-python",
   "name": "python",
   "nbconvert_exporter": "python",
   "pygments_lexer": "ipython3",
   "version": "3.8.1"
  }
 },
 "nbformat": 4,
 "nbformat_minor": 4
}

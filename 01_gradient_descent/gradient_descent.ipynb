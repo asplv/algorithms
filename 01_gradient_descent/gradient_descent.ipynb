{
 "cells": [
  {
   "cell_type": "markdown",
   "metadata": {},
   "source": [
    "Анастасия Плавина"
   ]
  },
  {
   "cell_type": "markdown",
   "metadata": {},
   "source": [
    "## Тема: Градиентный спуск"
   ]
  },
  {
   "cell_type": "code",
   "execution_count": 1,
   "metadata": {},
   "outputs": [],
   "source": [
    "import numpy as np\n",
    "import matplotlib.pyplot as plt"
   ]
  },
  {
   "cell_type": "markdown",
   "metadata": {},
   "source": [
    "1. Подберите скорость обучения (alpha) и количество итераций"
   ]
  },
  {
   "cell_type": "code",
   "execution_count": 2,
   "metadata": {},
   "outputs": [],
   "source": [
    "n_features = 2\n",
    "n_objects = 200\n",
    "\n",
    "w_true = np.random.normal(size=(n_features, ))\n",
    "X = np.random.uniform(-7, 7, (n_objects, n_features))\n",
    "y = X.dot(w_true) + np.random.normal(0, 0.5, size=(n_objects))\n",
    "\n",
    "n = X.shape[1]\n",
    "alpha = 1e-4\n",
    "W = np.array([1, 0.5])"
   ]
  },
  {
   "cell_type": "code",
   "execution_count": 3,
   "metadata": {},
   "outputs": [],
   "source": [
    "def find_iters(X, W, y, alpha, with_errors=False):\n",
    "    \"\"\"Функция возращает количество итераций при заданной скорости обучения alpha.\n",
    "    Параметр with_errors возвращает дополнительно массив ошибок\n",
    "    \"\"\"\n",
    "    \n",
    "    max_iter = 1e4\n",
    "    weight_dist = np.inf\n",
    "    min_weight_dist = 1e-5\n",
    "    i = 0\n",
    "    errors = []\n",
    "\n",
    "    while weight_dist > min_weight_dist and i < max_iter: \n",
    "        y_pred = X.dot(W)\n",
    "\n",
    "        new_W = W - 2 * alpha * np.dot(X.T, (y_pred - y)) / y.shape[0]\n",
    "        weight_dist = np.linalg.norm(new_W - W, ord=2)\n",
    "\n",
    "        err = np.mean((y - y_pred)**2) \n",
    "        errors.append(err)\n",
    "\n",
    "        i += 1\n",
    "        W = new_W\n",
    "    \n",
    "    if with_errors:\n",
    "        return i, errors\n",
    "    \n",
    "    return i"
   ]
  },
  {
   "cell_type": "code",
   "execution_count": 4,
   "metadata": {},
   "outputs": [
    {
     "name": "stdout",
     "output_type": "stream",
     "text": [
      "alpha\titer_number\n",
      "-----------------\n",
      "0.0017 \t 171\n"
     ]
    }
   ],
   "source": [
    "alpha = 1e-4\n",
    "iter_num_next, errors_before = find_iters(X, W, y, alpha, True)\n",
    "iter_num = iter_num_next + 1\n",
    "\n",
    "while iter_num > iter_num_next:\n",
    "    iter_num = iter_num_next\n",
    "    alpha += 1e-5\n",
    "    iter_num_next = find_iters(X, W, y, alpha)\n",
    "\n",
    "print('alpha\\titer_number')\n",
    "print('-----------------')\n",
    "print(round(alpha, 4), '\\t', iter_num)\n",
    "\n",
    "\n",
    "i_top, errors_after = find_iters(X, W, y, alpha, True)"
   ]
  },
  {
   "cell_type": "code",
   "execution_count": 5,
   "metadata": {},
   "outputs": [
    {
     "data": {
      "image/png": "[encoded data removed]",
      "text/plain": [
       "<Figure size 936x432 with 1 Axes>"
      ]
     },
     "metadata": {
      "needs_background": "light"
     },
     "output_type": "display_data"
    }
   ],
   "source": [
    "fig = plt.figure(figsize=(13, 6))\n",
    "ax = fig.add_subplot()\n",
    "plt.xlabel('Iterations')\n",
    "plt.ylabel('MSE')\n",
    "plt.title('MSE at iterations increase')\n",
    "\n",
    "ax.scatter(range(len(errors_before)), errors_before, s=4, label='alpha=0.0001')\n",
    "ax.scatter(range(len(errors_after)), errors_after, s=4, label=f'alpha={round(alpha, 4)}')\n",
    "\n",
    "plt.legend()\n",
    "plt.show()"
   ]
  }
 ],
 "metadata": {
  "kernelspec": {
   "display_name": "Python 3",
   "language": "python",
   "name": "python3"
  },
  "language_info": {
   "codemirror_mode": {
    "name": "ipython",
    "version": 3
   },
   "file_extension": ".py",
   "mimetype": "text/x-python",
   "name": "python",
   "nbconvert_exporter": "python",
   "pygments_lexer": "ipython3",
   "version": "3.8.1"
  }
 },
 "nbformat": 4,
 "nbformat_minor": 4
}

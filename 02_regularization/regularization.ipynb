{
 "cells": [
  {
   "cell_type": "markdown",
   "metadata": {},
   "source": [
    "Анастасия Плавина"
   ]
  },
  {
   "cell_type": "markdown",
   "metadata": {},
   "source": [
    "### Тема: Стохастический градиентный спуск. L2-регуляризация."
   ]
  },
  {
   "cell_type": "markdown",
   "metadata": {},
   "source": [
    "1. Сгенерировать датасет при помощи sklearn.datasets.make_regression и обучить линейную модель при помощи градиентного и стохастического градиентного спуска. Нанести среднеквадратичную ошибку для обоих методов на один график, сделать выводы о разнице скорости сходимости каждого из методов."
   ]
  },
  {
   "cell_type": "code",
   "execution_count": 1,
   "metadata": {},
   "outputs": [],
   "source": [
    "from sklearn.datasets import make_regression \n",
    "import numpy as np\n",
    "import matplotlib.pyplot as plt"
   ]
  },
  {
   "cell_type": "code",
   "execution_count": 2,
   "metadata": {},
   "outputs": [],
   "source": [
    "def mserror(X, w, y_pred):\n",
    "    y = X.dot(w)\n",
    "    return (sum((y - y_pred)**2)) / len(y)"
   ]
  },
  {
   "cell_type": "markdown",
   "metadata": {},
   "source": [
    "Генерируем данные:"
   ]
  },
  {
   "cell_type": "code",
   "execution_count": 3,
   "metadata": {},
   "outputs": [],
   "source": [
    "X, y, w_true = make_regression(n_samples=500, n_features = 4, n_informative = 2, n_targets = 1, \n",
    "                                              noise = 5, coef = True, random_state = 2)"
   ]
  },
  {
   "cell_type": "markdown",
   "metadata": {},
   "source": [
    "Стандартизируем данные:"
   ]
  },
  {
   "cell_type": "code",
   "execution_count": 4,
   "metadata": {},
   "outputs": [],
   "source": [
    "means = np.mean(X, axis=0)\n",
    "stds = np.std(X, axis=0)\n",
    "\n",
    "for i in range(X.shape[0]):\n",
    "    for j in range(X.shape[1]):\n",
    "        X[i][j] = (X[i][j] - means[j])/stds[j]"
   ]
  },
  {
   "cell_type": "code",
   "execution_count": 5,
   "metadata": {},
   "outputs": [],
   "source": [
    "def gradient_descent(X, y, alpha):\n",
    "    \"\"\"Функция реализует градиентный спуск\n",
    "    \"\"\"\n",
    "    w = np.zeros(X.shape[1])\n",
    "    errors = []\n",
    "    \n",
    "    max_iter = 1e4\n",
    "    weight_dist = np.inf\n",
    "    min_weight_dist = 1e-8\n",
    "    i = 0\n",
    "\n",
    "    while weight_dist > min_weight_dist and i < max_iter: \n",
    "        y_pred = X.dot(w)\n",
    "\n",
    "        new_w = w - 2 * alpha * np.dot(X.T, (y_pred - y)) / y.shape[0]\n",
    "        weight_dist = np.linalg.norm(new_w - w, ord=2)\n",
    "        errors.append(mserror(X, new_w, y))\n",
    "\n",
    "        i += 1\n",
    "        w = new_w\n",
    "    \n",
    "    return i, errors"
   ]
  },
  {
   "cell_type": "code",
   "execution_count": 6,
   "metadata": {},
   "outputs": [],
   "source": [
    "def sgd(X, y, alpha):\n",
    "    \"\"\"Функция реализует стохастический градиентный спуск\n",
    "    \"\"\"\n",
    "    \n",
    "    w = np.zeros(X.shape[1])\n",
    "    errors = []\n",
    "    \n",
    "    max_iter = 1e5\n",
    "    weight_dist = np.inf\n",
    "    min_weight_dist = 1e-8\n",
    "    i = 0\n",
    "\n",
    "    while weight_dist > min_weight_dist and i < max_iter:\n",
    "\n",
    "        train_ind = np.random.randint(X.shape[0])\n",
    "\n",
    "        new_w = w - 2 * alpha * np.dot(X[train_ind].T, (np.dot(X[train_ind], w) - y[train_ind])) / y.shape[0]\n",
    "        weight_dist = np.linalg.norm(new_w - w, ord=2)\n",
    "        errors.append(mserror(X, new_w, y))\n",
    "\n",
    "        i += 1\n",
    "        w = new_w\n",
    "    \n",
    "    return i, errors"
   ]
  },
  {
   "cell_type": "code",
   "execution_count": 7,
   "metadata": {},
   "outputs": [],
   "source": [
    "alpha = 1e-2\n",
    "np.random.seed(1234)"
   ]
  },
  {
   "cell_type": "code",
   "execution_count": 8,
   "metadata": {},
   "outputs": [],
   "source": [
    "i_basic, errors_basic = gradient_descent(X, y,alpha)"
   ]
  },
  {
   "cell_type": "code",
   "execution_count": 9,
   "metadata": {},
   "outputs": [],
   "source": [
    "i_sgd, errors_sgd = sgd(X, y,alpha)"
   ]
  },
  {
   "cell_type": "code",
   "execution_count": 10,
   "metadata": {},
   "outputs": [
    {
     "name": "stdout",
     "output_type": "stream",
     "text": [
      "Gradient descent\n",
      "alpha: 0.01\t iterations: 1018\t min_error: 45.2153\n",
      "Stochastic gradient descent\n",
      "alpha: 0.01\t iterations: 74625\t min_error: 68.6072\n",
      "\n"
     ]
    },
    {
     "data": {
      "image/png": "[encoded data removed]",
      "text/plain": [
       "<Figure size 936x432 with 1 Axes>"
      ]
     },
     "metadata": {
      "needs_background": "light"
     },
     "output_type": "display_data"
    }
   ],
   "source": [
    "fig = plt.figure(figsize=(13, 6))\n",
    "ax = fig.add_subplot()\n",
    "plt.xlabel('Iterations')\n",
    "plt.ylabel('MSE')\n",
    "plt.title('MSE at iterations increase')\n",
    "\n",
    "ax.plot(range(len(errors_basic)), errors_basic, label='gradient descent')\n",
    "ax.plot(range(len(errors_sgd)), errors_sgd, label='stochastic gradient descent')\n",
    "\n",
    "print(f'Gradient descent\\nalpha: {alpha}\\t iterations: {i_basic}\\t min_error: {round(errors_basic[-1], 4)}')\n",
    "print(f'Stochastic gradient descent\\nalpha: {alpha}\\t iterations: {i_sgd}\\t min_error: {round(errors_sgd[-1], 4)}\\n')\n",
    "\n",
    "plt.legend()\n",
    "plt.show()"
   ]
  },
  {
   "cell_type": "markdown",
   "metadata": {},
   "source": [
    "Вывод: в результате стандартного градиентного спуска достигается меньшая ошибка, при этом для этого требуется гораздо меньшее количество итераций, чем для SGD, то есть сходимость SGD меньше. "
   ]
  },
  {
   "cell_type": "markdown",
   "metadata": {},
   "source": [
    "2. Модифицировать решение первого задания путем добавления 𝐿2-регуляризации (в функцию, считающую MSE, нужно добавить норму вектора весов) и сравнить результаты."
   ]
  },
  {
   "cell_type": "code",
   "execution_count": 11,
   "metadata": {},
   "outputs": [],
   "source": [
    "def ridge_mserror(X, w, y_pred, lambda_=1e-7):\n",
    "    y = X.dot(w)\n",
    "    return ((sum((y - y_pred)**2)) / len(y)) + lambda_*np.dot(w.T, w)"
   ]
  },
  {
   "cell_type": "code",
   "execution_count": 12,
   "metadata": {},
   "outputs": [],
   "source": [
    "def ridge_gradient_descent(X, y, alpha, lambda_=1e-8):\n",
    "    \"\"\"Функция реализует градиентный спуск\n",
    "    \"\"\"\n",
    "    w = np.zeros(X.shape[1])\n",
    "    errors = []\n",
    "    \n",
    "    max_iter = 1e4\n",
    "    weight_dist = np.inf\n",
    "    min_weight_dist = 1e-8\n",
    "    i = 0\n",
    "\n",
    "    while weight_dist > min_weight_dist and i < max_iter: \n",
    "        y_pred = X.dot(w)\n",
    "\n",
    "        new_w = w - (2 * alpha * np.dot(X.T, (y_pred - y)) + lambda_ * w) / y.shape[0]\n",
    "        weight_dist = np.linalg.norm(new_w - w, ord=2)\n",
    "        errors.append(ridge_mserror(X, new_w, y))\n",
    "\n",
    "        i += 1\n",
    "        w = new_w\n",
    "    \n",
    "    return i, errors"
   ]
  },
  {
   "cell_type": "code",
   "execution_count": 13,
   "metadata": {},
   "outputs": [],
   "source": [
    "def ridge_sgd(X, y, alpha, lambda_=1e-7):\n",
    "    \"\"\"Функция реализует стохастический градиентный спуск\n",
    "    \"\"\"\n",
    "    \n",
    "    w = np.zeros(X.shape[1])\n",
    "    errors = []\n",
    "    \n",
    "    max_iter = 1e5\n",
    "    weight_dist = np.inf\n",
    "    min_weight_dist = 1e-8\n",
    "    i = 0\n",
    "\n",
    "    while weight_dist > min_weight_dist and i < max_iter:\n",
    "\n",
    "        train_ind = np.random.randint(X.shape[0])\n",
    "\n",
    "        new_w = w - (2 * alpha * np.dot(X[train_ind].T, (np.dot(X[train_ind], w) - y[train_ind])) + lambda_ * w) / y.shape[0]\n",
    "        weight_dist = np.linalg.norm(new_w - w, ord=2)\n",
    "        errors.append(ridge_mserror(X, new_w, y))\n",
    "\n",
    "        i += 1\n",
    "        w = new_w\n",
    "    \n",
    "    return i, errors"
   ]
  },
  {
   "cell_type": "code",
   "execution_count": 14,
   "metadata": {},
   "outputs": [],
   "source": [
    "i_basic_ridge, errors_basic_ridge = ridge_gradient_descent(X, y, alpha)"
   ]
  },
  {
   "cell_type": "code",
   "execution_count": 15,
   "metadata": {},
   "outputs": [],
   "source": [
    "i_sgd_ridge, errors_sgd_ridge = ridge_sgd(X, y, alpha)"
   ]
  },
  {
   "cell_type": "code",
   "execution_count": 16,
   "metadata": {},
   "outputs": [
    {
     "name": "stdout",
     "output_type": "stream",
     "text": [
      "Gradient descent\n",
      "alpha: 0.01\t iterations: 1018\t min_error: 45.2162\n",
      "Stochastic gradient descent\n",
      "alpha: 0.01\t iterations: 100000\t min_error: 48.5507\n",
      "\n"
     ]
    },
    {
     "data": {
      "image/png": "[encoded data removed]",
      "text/plain": [
       "<Figure size 936x432 with 1 Axes>"
      ]
     },
     "metadata": {
      "needs_background": "light"
     },
     "output_type": "display_data"
    }
   ],
   "source": [
    "fig = plt.figure(figsize=(13, 6))\n",
    "ax = fig.add_subplot()\n",
    "plt.xlabel('Iterations')\n",
    "plt.ylabel('MSE')\n",
    "plt.title('MSE at iterations increase with L2-regularization')\n",
    "\n",
    "ax.plot(range(len(errors_basic_ridge)), errors_basic_ridge, label='gradient descent')\n",
    "ax.plot(range(len(errors_sgd_ridge)), errors_sgd_ridge, label='stochastic gradient descent')\n",
    "\n",
    "print(f'Gradient descent\\nalpha: {alpha}\\t iterations: {i_basic_ridge}\\t min_error: {round(errors_basic_ridge[-1], 4)}')\n",
    "print(f'Stochastic gradient descent\\nalpha: {alpha}\\t iterations: {i_sgd_ridge}\\t min_error: {round(errors_sgd_ridge[-1], 4)}\\n')\n",
    "\n",
    "plt.legend()\n",
    "plt.show()"
   ]
  },
  {
   "cell_type": "markdown",
   "metadata": {},
   "source": [
    "Регулиризация позволила снизить ошибку стохастического градиентного спуска практически до уровня ошибки стандартного градиентного спуска, но замедлила скорость сходимости. Сходимость и ошибка при стандартном градиентном спуске осталась практически без изменений."
   ]
  }
 ],
 "metadata": {
  "kernelspec": {
   "display_name": "Python 3",
   "language": "python",
   "name": "python3"
  },
  "language_info": {
   "codemirror_mode": {
    "name": "ipython",
    "version": 3
   },
   "file_extension": ".py",
   "mimetype": "text/x-python",
   "name": "python",
   "nbconvert_exporter": "python",
   "pygments_lexer": "ipython3",
   "version": "3.8.1"
  }
 },
 "nbformat": 4,
 "nbformat_minor": 4
}
